{
  "cells": [
    {
      "cell_type": "code",
      "source": [
        "pip install networkx"
      ],
      "metadata": {
        "id": "9ZDVBybgLwEA",
        "outputId": "8f5dfae6-95a5-4e8d-c6e8-3fabcd60e2d6",
        "colab": {
          "base_uri": "https://localhost:8080/"
        }
      },
      "execution_count": null,
      "outputs": [
        {
          "output_type": "stream",
          "name": "stdout",
          "text": [
            "Requirement already satisfied: networkx in /usr/local/lib/python3.10/dist-packages (3.4.2)\n"
          ]
        }
      ]
    },
    {
      "cell_type": "code",
      "source": [
        "pip install pyspark"
      ],
      "metadata": {
        "id": "B3Ow7wonLv6c",
        "outputId": "065f6d2f-0f81-4a6b-b0ee-fc5558b4d92d",
        "colab": {
          "base_uri": "https://localhost:8080/"
        }
      },
      "execution_count": null,
      "outputs": [
        {
          "output_type": "stream",
          "name": "stdout",
          "text": [
            "Requirement already satisfied: pyspark in /usr/local/lib/python3.10/dist-packages (3.5.3)\n",
            "Requirement already satisfied: py4j==0.10.9.7 in /usr/local/lib/python3.10/dist-packages (from pyspark) (0.10.9.7)\n"
          ]
        }
      ]
    },
    {
      "cell_type": "code",
      "source": [
        "pip install pyngrok"
      ],
      "metadata": {
        "id": "3cqs-7kzMLBn",
        "outputId": "19bd14c5-bea0-4364-ca65-c481767cffd4",
        "colab": {
          "base_uri": "https://localhost:8080/"
        }
      },
      "execution_count": null,
      "outputs": [
        {
          "output_type": "stream",
          "name": "stdout",
          "text": [
            "Collecting pyngrok\n",
            "  Downloading pyngrok-7.2.1-py3-none-any.whl.metadata (8.3 kB)\n",
            "Requirement already satisfied: PyYAML>=5.1 in /usr/local/lib/python3.10/dist-packages (from pyngrok) (6.0.2)\n",
            "Downloading pyngrok-7.2.1-py3-none-any.whl (22 kB)\n",
            "Installing collected packages: pyngrok\n",
            "Successfully installed pyngrok-7.2.1\n"
          ]
        }
      ]
    },
    {
      "cell_type": "code",
      "source": [
        "from pyngrok import ngrok\n",
        "from pyspark.sql import SparkSession, Window\n",
        "from pyspark.sql.functions import lower, when, col, lit, initcap, mean, round, to_date, year, trim, split, explode, rank\n",
        "from pyspark.sql import Row\n",
        "from pyspark.sql.functions import when, concat_ws\n",
        "from pyspark.sql.functions import  avg\n",
        "from pyspark.ml.feature import Tokenizer, StopWordsRemover, HashingTF, IDF\n",
        "from pyspark.ml.linalg import Vectors\n",
        "from pyspark.ml.feature import PCA\n",
        "from pyspark.ml.clustering import KMeans\n",
        "from pyspark.sql.types import IntegerType\n",
        "from sklearn.cluster import AgglomerativeClustering\n",
        "from pyspark.sql.functions import monotonically_increasing_id, trim\n",
        "from sklearn.cluster import SpectralClustering\n",
        "from sklearn.cluster import DBSCAN\n",
        "from pyspark.ml.feature import Normalizer\n",
        "from pyspark.ml.linalg import Vectors, DenseVector, SparseVector # Import SparseVector here\n",
        "from pyspark.sql.functions import  udf, array\n",
        "from pyspark.sql.types import DoubleType, ArrayType\n",
        "from pyspark.ml.linalg import DenseVector\n",
        "from sklearn.metrics.pairwise import cosine_similarity\n",
        "import numpy as np\n",
        "import pandas as pd"
      ],
      "metadata": {
        "id": "rFZCV9F7ZYEQ"
      },
      "execution_count": null,
      "outputs": []
    },
    {
      "cell_type": "code",
      "source": [
        "ngrok.set_auth_token(\"2pMh5AySRInNUV4cZWRtZQUtaDR_5bfNKHUXNRsqmWSDkDHRb\")\n",
        "pub_link = ngrok.connect(4040)\n",
        "print(\"Spark WebUI link:\", pub_link)"
      ],
      "metadata": {
        "id": "PrKdwnrGL2ko",
        "outputId": "32aef50c-45fe-4634-d375-0765ea7ce7b0",
        "colab": {
          "base_uri": "https://localhost:8080/"
        }
      },
      "execution_count": null,
      "outputs": [
        {
          "output_type": "stream",
          "name": "stdout",
          "text": [
            "Spark WebUI link: NgrokTunnel: \"https://2b8c-35-197-83-191.ngrok-free.app\" -> \"http://localhost:4040\"\n"
          ]
        }
      ]
    },
    {
      "cell_type": "code",
      "execution_count": null,
      "metadata": {
        "id": "lVRTb7m11zbB"
      },
      "outputs": [],
      "source": [
        "# initializing spark session\n",
        "spark = SparkSession.builder.appName(\"Combine Columns\") \\\n",
        "    .config(\"spark.executor.memory\", \"4g\") \\\n",
        "    .getOrCreate()\n",
        "\n",
        "\n",
        "movie = spark.read.csv(\"movie_dataset1.csv\", header= True, inferSchema= True)\n",
        "movie.show()"
      ]
    },
    {
      "cell_type": "code",
      "execution_count": null,
      "metadata": {
        "id": "Z4LbnipL2nNm"
      },
      "outputs": [],
      "source": [
        "movie.printSchema()#printing schema"
      ]
    },
    {
      "cell_type": "code",
      "execution_count": null,
      "metadata": {
        "id": "78oypmHS34FQ"
      },
      "outputs": [],
      "source": [
        "movie.show(5)# displaying data"
      ]
    },
    {
      "cell_type": "code",
      "execution_count": null,
      "metadata": {
        "id": "XzpC-SJI37h7"
      },
      "outputs": [],
      "source": [
        "movie.describe().show()"
      ]
    },
    {
      "cell_type": "markdown",
      "metadata": {
        "id": "b1eZ3z2m4Fzt"
      },
      "source": [
        "**ADDING NOISE LIKE IN PREVIOUS PHASES**"
      ]
    },
    {
      "cell_type": "code",
      "execution_count": null,
      "metadata": {
        "id": "ks2sSfWp4Ekq"
      },
      "outputs": [],
      "source": [
        "movie = movie.withColumn('title', lower(movie['title']))#decapitalizing title"
      ]
    },
    {
      "cell_type": "code",
      "execution_count": null,
      "metadata": {
        "id": "qzXA0Ptr4tt8"
      },
      "outputs": [],
      "source": [
        "movie.show(5)"
      ]
    },
    {
      "cell_type": "code",
      "execution_count": null,
      "metadata": {
        "id": "nLtmCjHx5rKn"
      },
      "outputs": [],
      "source": [
        "movie_dup = movie.limit(300)# adding duplicated rows\n",
        "movie= movie.union(movie_dup)\n",
        "\n",
        "rows_count = movie.count()\n",
        "print(\"rows count: \", rows_count)"
      ]
    },
    {
      "cell_type": "code",
      "execution_count": null,
      "metadata": {
        "id": "MoxwaHSu5-kc"
      },
      "outputs": [],
      "source": [
        "movie = movie.withColumn('vote_average', when(movie['vote_average']== 5.5, 'average').otherwise(movie['vote_average']))#adding character values into dataset"
      ]
    },
    {
      "cell_type": "code",
      "execution_count": null,
      "metadata": {
        "id": "sNup-STL9a7y"
      },
      "outputs": [],
      "source": [
        "movie = movie.withColumn('vote_average', when(movie['vote_average']== 4.7, 'Nan').otherwise(movie['vote_average']))#adding nan values"
      ]
    },
    {
      "cell_type": "markdown",
      "metadata": {
        "id": "KNypmwbG61jn"
      },
      "source": [
        "**DATA PREPROCESSING**"
      ]
    },
    {
      "cell_type": "markdown",
      "source": [
        "### step 1:replacing non numeric entries in vote_average with none"
      ],
      "metadata": {
        "id": "4T-oi2ej5kOH"
      }
    },
    {
      "cell_type": "code",
      "execution_count": null,
      "metadata": {
        "id": "iZ8yA49H3PtQ"
      },
      "outputs": [],
      "source": [
        "# Replace non-numeric entries in 'vote_average' with None\n",
        "movie = movie.withColumn(\n",
        "    'vote_average',\n",
        "    when(col('vote_average').cast('float').isNotNull(), col('vote_average').cast('float')).otherwise(None)\n",
        ")\n",
        "movie.show()\n"
      ]
    },
    {
      "cell_type": "code",
      "execution_count": null,
      "metadata": {
        "id": "wtGuyTPU8iMB"
      },
      "outputs": [],
      "source": [
        "movie_limit = movie.limit(9140)\n",
        "movie_range = movie_limit.subtract(movie_limit.limit(9134))\n",
        "movie_range.show()"
      ]
    },
    {
      "cell_type": "code",
      "execution_count": null,
      "metadata": {
        "id": "THKgS73ZMyls"
      },
      "outputs": [],
      "source": [
        "movie.filter(col(\"id\") == 6171).show()#null value present in id = 6171"
      ]
    },
    {
      "cell_type": "markdown",
      "source": [
        "###step 2: Removing duplicates"
      ],
      "metadata": {
        "id": "Qg4d_2Qb6BgD"
      }
    },
    {
      "cell_type": "code",
      "execution_count": null,
      "metadata": {
        "id": "c0fJ0qkW9zz2"
      },
      "outputs": [],
      "source": [
        "movie = movie.dropDuplicates()#removing duplicates"
      ]
    },
    {
      "cell_type": "code",
      "execution_count": null,
      "metadata": {
        "colab": {
          "base_uri": "https://localhost:8080/"
        },
        "id": "DCt9Az3E9zq5",
        "outputId": "a5c32104-5741-49e8-cbcd-48728b5cd579"
      },
      "outputs": [
        {
          "metadata": {
            "tags": null
          },
          "name": "stdout",
          "output_type": "stream",
          "text": [
            "+------+--------------------+--------------------+-----------------+--------------------+----------+------------+------------+----------+\n",
            "|    id|               title|               genre|original_language|            overview|popularity|release_date|vote_average|vote_count|\n",
            "+------+--------------------+--------------------+-----------------+--------------------+----------+------------+------------+----------+\n",
            "| 42229|       A Special Day|       Drama,Romance|               it|In Rome, fascist ...|     6.666|  1977-08-11|         8.1|       524|\n",
            "|146233|           Prisoners|Drama,Thriller,Crime|               en|Keller Dover face...|    43.621|  2013-09-18|         8.1|      9409|\n",
            "| 11293|          Paper Moon|  Comedy,Crime,Drama|               en|During the Great ...|     9.458|  1973-05-09|         7.9|       516|\n",
            "| 25188|The Last Picture ...|               Drama|               en|High school senio...|     10.34|  1971-10-03|         7.7|       488|\n",
            "|381289|     A Dog's Purpose|Adventure,Comedy,...|               en|A dog goes on que...|     61.14|  2017-01-19|         7.6|      2754|\n",
            "|  4024|Last Year At Mari...|       Drama,Romance|               fr|In a strange and ...|    10.873|  1961-05-25|         7.5|       370|\n",
            "|451499|      School Of Life| Drama,Comedy,Family|               fr|Paris 1930. Paul ...|     6.586|  2017-02-22|         7.4|       236|\n",
            "| 40180|  Fear Over The City|Action,Crime,Dram...|               fr|A serial-killer f...|     6.167|  1975-04-09|         7.3|       201|\n",
            "|408537|The Distinguished...|        Comedy,Drama|               es|After refusing bi...|     8.804|  2016-09-08|         7.3|       203|\n",
            "|618354|Superman: Man Of ...|Animation,Action,...|               en|It’s the dawn of ...|    30.865|  2020-08-23|         7.2|       346|\n",
            "|244403|          Rudderless|  Music,Drama,Comedy|               en|A grieving father...|     7.282|  2014-10-17|         7.2|       247|\n",
            "|335360|My Little Pony: T...|Family,Animation,...|               en|A new dark force ...|    21.056|  2017-10-05|         7.2|       308|\n",
            "|537996|The Ballad Of Bus...|Western,Comedy,Drama|               en|Vignettes weaving...|    25.782|  2018-11-09|         7.1|      3312|\n",
            "|  2998|     Zabriskie Point|       Drama,Romance|               en|An epic portrait ...|      7.93|  1970-02-09|         7.1|       313|\n",
            "|501633|          Invisibles|        Comedy,Drama|               fr|Following a city ...|     6.682|  2019-01-09|         7.1|       327|\n",
            "| 11831|             Amistad|Drama,History,Mys...|               en|In 1839, the slav...|      4.15|  1997-12-10|         7.0|      1030|\n",
            "|  7270|      Matchstick Men|Comedy,Drama,Crim...|               en|A phobic con arti...|     7.782|  2003-09-12|         7.0|      1388|\n",
            "| 30675|         Planet Hulk|Science Fiction,A...|               en|When the Hulk's p...|    32.573|  2010-02-02|         7.0|       380|\n",
            "|  4012|        The Believer|               Drama|               en|A hardcore US rac...|     8.699|  2001-08-23|         7.0|       487|\n",
            "| 15805|Batman & Mr. Free...|Animation,Action,...|               en|When Mr. Freeze k...|    12.678|  1998-02-11|         7.0|       338|\n",
            "+------+--------------------+--------------------+-----------------+--------------------+----------+------------+------------+----------+\n",
            "only showing top 20 rows\n",
            "\n"
          ]
        }
      ],
      "source": [
        "movie = movie.withColumn('title', initcap(movie['title']))#capitalizing initail letter of every word\n",
        "\n",
        "# Show the result\n",
        "movie.show()"
      ]
    },
    {
      "cell_type": "markdown",
      "source": [
        "###step 3: replacing none values with mean of vote_average"
      ],
      "metadata": {
        "id": "EbyEVnrr6aR9"
      }
    },
    {
      "cell_type": "code",
      "execution_count": null,
      "metadata": {
        "colab": {
          "base_uri": "https://localhost:8080/"
        },
        "id": "mBiuKoFJ9zj1",
        "outputId": "09aaf210-fc96-4535-c670-7aacc7ab0c43"
      },
      "outputs": [
        {
          "metadata": {
            "tags": null
          },
          "name": "stdout",
          "output_type": "stream",
          "text": [
            "+------+--------------------+--------------------+-----------------+--------------------+----------+------------+-----------------+----------+\n",
            "|    id|               title|               genre|original_language|            overview|popularity|release_date|     vote_average|vote_count|\n",
            "+------+--------------------+--------------------+-----------------+--------------------+----------+------------+-----------------+----------+\n",
            "| 42229|       A Special Day|       Drama,Romance|               it|In Rome, fascist ...|     6.666|  1977-08-11|8.100000381469727|       524|\n",
            "|146233|           Prisoners|Drama,Thriller,Crime|               en|Keller Dover face...|    43.621|  2013-09-18|8.100000381469727|      9409|\n",
            "| 11293|          Paper Moon|  Comedy,Crime,Drama|               en|During the Great ...|     9.458|  1973-05-09|7.900000095367432|       516|\n",
            "| 25188|The Last Picture ...|               Drama|               en|High school senio...|     10.34|  1971-10-03|7.699999809265137|       488|\n",
            "|381289|     A Dog's Purpose|Adventure,Comedy,...|               en|A dog goes on que...|     61.14|  2017-01-19|7.599999904632568|      2754|\n",
            "|  4024|Last Year At Mari...|       Drama,Romance|               fr|In a strange and ...|    10.873|  1961-05-25|              7.5|       370|\n",
            "|451499|      School Of Life| Drama,Comedy,Family|               fr|Paris 1930. Paul ...|     6.586|  2017-02-22|7.400000095367432|       236|\n",
            "| 40180|  Fear Over The City|Action,Crime,Dram...|               fr|A serial-killer f...|     6.167|  1975-04-09|7.300000190734863|       201|\n",
            "|408537|The Distinguished...|        Comedy,Drama|               es|After refusing bi...|     8.804|  2016-09-08|7.300000190734863|       203|\n",
            "|618354|Superman: Man Of ...|Animation,Action,...|               en|It’s the dawn of ...|    30.865|  2020-08-23|7.199999809265137|       346|\n",
            "|244403|          Rudderless|  Music,Drama,Comedy|               en|A grieving father...|     7.282|  2014-10-17|7.199999809265137|       247|\n",
            "|335360|My Little Pony: T...|Family,Animation,...|               en|A new dark force ...|    21.056|  2017-10-05|7.199999809265137|       308|\n",
            "|537996|The Ballad Of Bus...|Western,Comedy,Drama|               en|Vignettes weaving...|    25.782|  2018-11-09|7.099999904632568|      3312|\n",
            "|  2998|     Zabriskie Point|       Drama,Romance|               en|An epic portrait ...|      7.93|  1970-02-09|7.099999904632568|       313|\n",
            "|501633|          Invisibles|        Comedy,Drama|               fr|Following a city ...|     6.682|  2019-01-09|7.099999904632568|       327|\n",
            "| 11831|             Amistad|Drama,History,Mys...|               en|In 1839, the slav...|      4.15|  1997-12-10|              7.0|      1030|\n",
            "|  7270|      Matchstick Men|Comedy,Drama,Crim...|               en|A phobic con arti...|     7.782|  2003-09-12|              7.0|      1388|\n",
            "| 30675|         Planet Hulk|Science Fiction,A...|               en|When the Hulk's p...|    32.573|  2010-02-02|              7.0|       380|\n",
            "|  4012|        The Believer|               Drama|               en|A hardcore US rac...|     8.699|  2001-08-23|              7.0|       487|\n",
            "| 15805|Batman & Mr. Free...|Animation,Action,...|               en|When Mr. Freeze k...|    12.678|  1998-02-11|              7.0|       338|\n",
            "+------+--------------------+--------------------+-----------------+--------------------+----------+------------+-----------------+----------+\n",
            "only showing top 20 rows\n",
            "\n"
          ]
        }
      ],
      "source": [
        "# Ensure the 'vote_average' column is numeric\n",
        "movie = movie.withColumn(\"vote_average\", col(\"vote_average\").cast(\"double\"))\n",
        "\n",
        "# Calculate the mean of the 'vote_average' column, excluding NULLs\n",
        "vote_average_mean = movie.select(mean(col('vote_average'))).collect()[0][0]\n",
        "\n",
        "# Replace NULLs in the 'vote_average' column with the mean value\n",
        "movie = movie.fillna({'vote_average': vote_average_mean})\n",
        "\n",
        "# Show the updated DataFrame\n",
        "movie.show()\n"
      ]
    },
    {
      "cell_type": "code",
      "execution_count": null,
      "metadata": {
        "colab": {
          "base_uri": "https://localhost:8080/"
        },
        "id": "g_czwv184G3u",
        "outputId": "ad72007d-630b-40d8-ce65-3a7fa263df5f"
      },
      "outputs": [
        {
          "data": {
            "text/plain": [
              "10005"
            ]
          },
          "execution_count": 21,
          "metadata": {},
          "output_type": "execute_result"
        }
      ],
      "source": [
        "movie.count()"
      ]
    },
    {
      "cell_type": "code",
      "execution_count": null,
      "metadata": {
        "id": "X7FS0i5OMBIT"
      },
      "outputs": [],
      "source": [
        "# Calculate the mean of 'vote_average', excluding \"Nan\" and other non-numeric values\n",
        "mean_vote_average = movie.filter((col('vote_average').cast('float').isNotNull()) & (col('vote_average') != \"Nan\")) \\\n",
        "    .agg(avg(col('vote_average').cast('float')).alias('mean_vote_average')) \\\n",
        "    .collect()[0]['mean_vote_average']\n",
        "\n",
        "# Replace \"Nan\" with the calculated mean\n",
        "movie = movie.withColumn(\n",
        "    'vote_average',\n",
        "    when(col('vote_average') == 'Nan', mean_vote_average).otherwise(col('vote_average'))\n",
        ")\n"
      ]
    },
    {
      "cell_type": "code",
      "execution_count": null,
      "metadata": {
        "colab": {
          "base_uri": "https://localhost:8080/"
        },
        "id": "J7zQ_NUFL6vV",
        "outputId": "e5a6a07d-96b6-4df8-dd11-be80fbb20504"
      },
      "outputs": [
        {
          "metadata": {
            "tags": null
          },
          "name": "stdout",
          "output_type": "stream",
          "text": [
            "+----+------------+--------------------+-----------------+--------------------+----------+------------+-----------------+----------+\n",
            "|  id|       title|               genre|original_language|            overview|popularity|release_date|     vote_average|vote_count|\n",
            "+----+------------+--------------------+-----------------+--------------------+----------+------------+-----------------+----------+\n",
            "|6171|Dreamcatcher|Drama,Horror,Scie...|               en|Four boyhood pals...|    28.971|  2003-03-21|6.792932119406819|      1457|\n",
            "+----+------------+--------------------+-----------------+--------------------+----------+------------+-----------------+----------+\n",
            "\n"
          ]
        }
      ],
      "source": [
        "movie.filter(col(\"id\") == 6171).show()# null value is replaced with mean of vote_average"
      ]
    },
    {
      "cell_type": "code",
      "execution_count": null,
      "metadata": {
        "colab": {
          "base_uri": "https://localhost:8080/"
        },
        "id": "h3MVzN03MZg2",
        "outputId": "877b294e-bc54-4bd5-f4d9-3d8b21c05e0d"
      },
      "outputs": [
        {
          "metadata": {
            "tags": null
          },
          "name": "stdout",
          "output_type": "stream",
          "text": [
            "+-----+------+------+-----------------+--------------------+----------+------------+-----------------+----------+\n",
            "|   id| title| genre|original_language|            overview|popularity|release_date|     vote_average|vote_count|\n",
            "+-----+------+------+-----------------+--------------------+----------+------------+-----------------+----------+\n",
            "|42441|Tifosi|Comedy|               it|Four different st...|     5.868|  1999-10-01|6.792932119406819|       300|\n",
            "+-----+------+------+-----------------+--------------------+----------+------------+-----------------+----------+\n",
            "\n"
          ]
        }
      ],
      "source": [
        "movie.filter(col(\"id\") ==  42441).show()# null value is replaced with mean of vote_average"
      ]
    },
    {
      "cell_type": "code",
      "execution_count": null,
      "metadata": {
        "colab": {
          "base_uri": "https://localhost:8080/"
        },
        "id": "9PBFEg6EMl4c",
        "outputId": "891a4fe0-c5f7-4d7c-b541-59b91159fe54"
      },
      "outputs": [
        {
          "metadata": {
            "tags": null
          },
          "name": "stdout",
          "output_type": "stream",
          "text": [
            "+------+-----------------+------+-----------------+--------------------+----------+------------+-----------------+----------+\n",
            "|    id|            title| genre|original_language|            overview|popularity|release_date|     vote_average|vote_count|\n",
            "+------+-----------------+------+-----------------+--------------------+----------+------------+-----------------+----------+\n",
            "|291272|We Are Still Here|Horror|               en|After the death o...|     8.159|  2015-06-05|6.792932119406819|       402|\n",
            "+------+-----------------+------+-----------------+--------------------+----------+------------+-----------------+----------+\n",
            "\n"
          ]
        }
      ],
      "source": [
        "movie.filter(col(\"id\") ==  291272).show()# null value is replaced with mean of vote_average"
      ]
    },
    {
      "cell_type": "code",
      "execution_count": null,
      "metadata": {
        "colab": {
          "base_uri": "https://localhost:8080/"
        },
        "id": "_AbRVCUt9zfP",
        "outputId": "b4398359-7af2-4576-d45f-029db2195a49"
      },
      "outputs": [
        {
          "metadata": {
            "tags": null
          },
          "name": "stdout",
          "output_type": "stream",
          "text": [
            "+------+--------------------+--------------------+-----------------+--------------------+----------+------------+-----------------+----------+\n",
            "|    id|               title|               genre|original_language|            overview|popularity|release_date|     vote_average|vote_count|\n",
            "+------+--------------------+--------------------+-----------------+--------------------+----------+------------+-----------------+----------+\n",
            "|451877|I Think We're Alo...|Science Fiction,D...|               en|After the human r...|     7.729|  2018-09-14|5.800000190734863|       285|\n",
            "|423087|6 Below: Miracle ...|      Thriller,Drama|               en|An adrenaline see...|    19.363|  2017-10-12|5.800000190734863|       315|\n",
            "| 17335|            Obsessed|      Drama,Thriller|               en|Things couldn't b...|    14.302|  2009-04-24|5.800000190734863|       538|\n",
            "| 25704|           Post Grad|        Comedy,Drama|               en|Ryden Malby has a...|     6.818|  2009-08-21|              5.0|       247|\n",
            "| 11802|        Space Chimps|Animation,Family,...|               en|Three chimps are ...|    15.505|  2008-06-25|4.800000190734863|       363|\n",
            "|526702|        Black Beauty|               Drama|               en|Born free in the ...|    12.203|  2020-11-27|8.300000190734863|       268|\n",
            "+------+--------------------+--------------------+-----------------+--------------------+----------+------------+-----------------+----------+\n",
            "\n"
          ]
        }
      ],
      "source": [
        "movie_limit2 = movie.limit(9140)\n",
        "movie_range2 = movie_limit2.subtract(movie_limit2.limit(9134))\n",
        "movie_range2.show()"
      ]
    },
    {
      "cell_type": "markdown",
      "source": [
        "**step 4 : dropping unnecssary columns**"
      ],
      "metadata": {
        "id": "KRPMOiQRAIJJ"
      }
    },
    {
      "cell_type": "code",
      "execution_count": null,
      "metadata": {
        "colab": {
          "base_uri": "https://localhost:8080/"
        },
        "id": "i5PunUPs9zZW",
        "outputId": "300c5c80-1f6c-4e46-897e-86bff8371a35"
      },
      "outputs": [
        {
          "metadata": {
            "tags": null
          },
          "name": "stdout",
          "output_type": "stream",
          "text": [
            "+--------------------+--------------------+-----------------+--------------------+----------+------------+-----------------+----------+\n",
            "|               title|               genre|original_language|            overview|popularity|release_date|     vote_average|vote_count|\n",
            "+--------------------+--------------------+-----------------+--------------------+----------+------------+-----------------+----------+\n",
            "|       A Special Day|       Drama,Romance|               it|In Rome, fascist ...|     6.666|  1977-08-11|8.100000381469727|       524|\n",
            "|           Prisoners|Drama,Thriller,Crime|               en|Keller Dover face...|    43.621|  2013-09-18|8.100000381469727|      9409|\n",
            "|          Paper Moon|  Comedy,Crime,Drama|               en|During the Great ...|     9.458|  1973-05-09|7.900000095367432|       516|\n",
            "|The Last Picture ...|               Drama|               en|High school senio...|     10.34|  1971-10-03|7.699999809265137|       488|\n",
            "|     A Dog's Purpose|Adventure,Comedy,...|               en|A dog goes on que...|     61.14|  2017-01-19|7.599999904632568|      2754|\n",
            "|Last Year At Mari...|       Drama,Romance|               fr|In a strange and ...|    10.873|  1961-05-25|              7.5|       370|\n",
            "|      School Of Life| Drama,Comedy,Family|               fr|Paris 1930. Paul ...|     6.586|  2017-02-22|7.400000095367432|       236|\n",
            "|  Fear Over The City|Action,Crime,Dram...|               fr|A serial-killer f...|     6.167|  1975-04-09|7.300000190734863|       201|\n",
            "|The Distinguished...|        Comedy,Drama|               es|After refusing bi...|     8.804|  2016-09-08|7.300000190734863|       203|\n",
            "|Superman: Man Of ...|Animation,Action,...|               en|It’s the dawn of ...|    30.865|  2020-08-23|7.199999809265137|       346|\n",
            "|          Rudderless|  Music,Drama,Comedy|               en|A grieving father...|     7.282|  2014-10-17|7.199999809265137|       247|\n",
            "|My Little Pony: T...|Family,Animation,...|               en|A new dark force ...|    21.056|  2017-10-05|7.199999809265137|       308|\n",
            "|The Ballad Of Bus...|Western,Comedy,Drama|               en|Vignettes weaving...|    25.782|  2018-11-09|7.099999904632568|      3312|\n",
            "|     Zabriskie Point|       Drama,Romance|               en|An epic portrait ...|      7.93|  1970-02-09|7.099999904632568|       313|\n",
            "|          Invisibles|        Comedy,Drama|               fr|Following a city ...|     6.682|  2019-01-09|7.099999904632568|       327|\n",
            "|             Amistad|Drama,History,Mys...|               en|In 1839, the slav...|      4.15|  1997-12-10|              7.0|      1030|\n",
            "|      Matchstick Men|Comedy,Drama,Crim...|               en|A phobic con arti...|     7.782|  2003-09-12|              7.0|      1388|\n",
            "|         Planet Hulk|Science Fiction,A...|               en|When the Hulk's p...|    32.573|  2010-02-02|              7.0|       380|\n",
            "|        The Believer|               Drama|               en|A hardcore US rac...|     8.699|  2001-08-23|              7.0|       487|\n",
            "|Batman & Mr. Free...|Animation,Action,...|               en|When Mr. Freeze k...|    12.678|  1998-02-11|              7.0|       338|\n",
            "+--------------------+--------------------+-----------------+--------------------+----------+------------+-----------------+----------+\n",
            "only showing top 20 rows\n",
            "\n"
          ]
        }
      ],
      "source": [
        "# Drop the 'id' column\n",
        "movie = movie.drop('id')\n",
        "\n",
        "# Show the updated DataFrame\n",
        "movie.show()"
      ]
    },
    {
      "cell_type": "markdown",
      "source": [
        "**step 5: changing data types**"
      ],
      "metadata": {
        "id": "zbRhzCJeARUu"
      }
    },
    {
      "cell_type": "code",
      "execution_count": null,
      "metadata": {
        "id": "Es7DnErA9zWm"
      },
      "outputs": [],
      "source": [
        "movie = movie.withColumn('vote_count', round(col('vote_count')).cast('int'))#converting float to int"
      ]
    },
    {
      "cell_type": "code",
      "execution_count": null,
      "metadata": {
        "id": "MIxG4MjgA8T0"
      },
      "outputs": [],
      "source": [
        "movie = movie.withColumn('popularity', round(col('popularity')).cast('int'))#converting float to int"
      ]
    },
    {
      "cell_type": "code",
      "execution_count": null,
      "metadata": {
        "colab": {
          "base_uri": "https://localhost:8080/"
        },
        "id": "AfaXdaVKA8LF",
        "outputId": "0fce0440-ac29-44ec-c984-b7e6cf71fd40"
      },
      "outputs": [
        {
          "metadata": {
            "tags": null
          },
          "name": "stdout",
          "output_type": "stream",
          "text": [
            "+--------------------+--------------------+-----------------+--------------------+----------+------------+-----------------+----------+\n",
            "|               title|               genre|original_language|            overview|popularity|release_date|     vote_average|vote_count|\n",
            "+--------------------+--------------------+-----------------+--------------------+----------+------------+-----------------+----------+\n",
            "|       A Special Day|       Drama,Romance|               it|In Rome, fascist ...|         7|  1977-08-11|8.100000381469727|       524|\n",
            "|           Prisoners|Drama,Thriller,Crime|               en|Keller Dover face...|        44|  2013-09-18|8.100000381469727|      9409|\n",
            "|          Paper Moon|  Comedy,Crime,Drama|               en|During the Great ...|         9|  1973-05-09|7.900000095367432|       516|\n",
            "|The Last Picture ...|               Drama|               en|High school senio...|        10|  1971-10-03|7.699999809265137|       488|\n",
            "|     A Dog's Purpose|Adventure,Comedy,...|               en|A dog goes on que...|        61|  2017-01-19|7.599999904632568|      2754|\n",
            "+--------------------+--------------------+-----------------+--------------------+----------+------------+-----------------+----------+\n",
            "only showing top 5 rows\n",
            "\n"
          ]
        }
      ],
      "source": [
        "movie.show(5)"
      ]
    },
    {
      "cell_type": "markdown",
      "source": [
        "**STEP 6 : REMOVING WHITE SPACES**"
      ],
      "metadata": {
        "id": "8Al0NYzpAa6U"
      }
    },
    {
      "cell_type": "code",
      "execution_count": null,
      "metadata": {
        "colab": {
          "base_uri": "https://localhost:8080/"
        },
        "id": "czMal9_XBz49",
        "outputId": "5aed0dc6-e70e-4b71-8748-ea6d92dbad97"
      },
      "outputs": [
        {
          "metadata": {
            "tags": null
          },
          "name": "stdout",
          "output_type": "stream",
          "text": [
            "+--------------------+--------------------+-----------------+--------------------+----------+------------+-----------------+----------+\n",
            "|               title|               genre|original_language|            overview|popularity|release_date|     vote_average|vote_count|\n",
            "+--------------------+--------------------+-----------------+--------------------+----------+------------+-----------------+----------+\n",
            "|       A Special Day|       Drama,Romance|               it|In Rome, fascist ...|         7|  1977-08-11|8.100000381469727|       524|\n",
            "|           Prisoners|Drama,Thriller,Crime|               en|Keller Dover face...|        44|  2013-09-18|8.100000381469727|      9409|\n",
            "|          Paper Moon|  Comedy,Crime,Drama|               en|During the Great ...|         9|  1973-05-09|7.900000095367432|       516|\n",
            "|The Last Picture ...|               Drama|               en|High school senio...|        10|  1971-10-03|7.699999809265137|       488|\n",
            "|     A Dog's Purpose|Adventure,Comedy,...|               en|A dog goes on que...|        61|  2017-01-19|7.599999904632568|      2754|\n",
            "|Last Year At Mari...|       Drama,Romance|               fr|In a strange and ...|        11|  1961-05-25|              7.5|       370|\n",
            "|      School Of Life| Drama,Comedy,Family|               fr|Paris 1930. Paul ...|         7|  2017-02-22|7.400000095367432|       236|\n",
            "|  Fear Over The City|Action,Crime,Dram...|               fr|A serial-killer f...|         6|  1975-04-09|7.300000190734863|       201|\n",
            "|The Distinguished...|        Comedy,Drama|               es|After refusing bi...|         9|  2016-09-08|7.300000190734863|       203|\n",
            "|Superman: Man Of ...|Animation,Action,...|               en|It’s the dawn of ...|        31|  2020-08-23|7.199999809265137|       346|\n",
            "|          Rudderless|  Music,Drama,Comedy|               en|A grieving father...|         7|  2014-10-17|7.199999809265137|       247|\n",
            "|My Little Pony: T...|Family,Animation,...|               en|A new dark force ...|        21|  2017-10-05|7.199999809265137|       308|\n",
            "|The Ballad Of Bus...|Western,Comedy,Drama|               en|Vignettes weaving...|        26|  2018-11-09|7.099999904632568|      3312|\n",
            "|     Zabriskie Point|       Drama,Romance|               en|An epic portrait ...|         8|  1970-02-09|7.099999904632568|       313|\n",
            "|          Invisibles|        Comedy,Drama|               fr|Following a city ...|         7|  2019-01-09|7.099999904632568|       327|\n",
            "|             Amistad|Drama,History,Mys...|               en|In 1839, the slav...|         4|  1997-12-10|              7.0|      1030|\n",
            "|      Matchstick Men|Comedy,Drama,Crim...|               en|A phobic con arti...|         8|  2003-09-12|              7.0|      1388|\n",
            "|         Planet Hulk|Science Fiction,A...|               en|When the Hulk's p...|        33|  2010-02-02|              7.0|       380|\n",
            "|        The Believer|               Drama|               en|A hardcore US rac...|         9|  2001-08-23|              7.0|       487|\n",
            "|Batman & Mr. Free...|Animation,Action,...|               en|When Mr. Freeze k...|        13|  1998-02-11|              7.0|       338|\n",
            "+--------------------+--------------------+-----------------+--------------------+----------+------------+-----------------+----------+\n",
            "only showing top 20 rows\n",
            "\n"
          ]
        }
      ],
      "source": [
        "movie = movie.withColumn('title', trim(movie['title']))\n",
        "movie = movie.withColumn('genre', trim(movie['genre']))\n",
        "\n",
        "# removing white spaces\n",
        "movie.show()"
      ]
    },
    {
      "cell_type": "code",
      "execution_count": null,
      "metadata": {
        "colab": {
          "base_uri": "https://localhost:8080/"
        },
        "id": "ZHpgtw9jBz1n",
        "outputId": "9ed0d443-c943-4c3c-e683-525886155d12"
      },
      "outputs": [
        {
          "metadata": {
            "tags": null
          },
          "name": "stdout",
          "output_type": "stream",
          "text": [
            "+--------------------+---------+-----------------+--------------------+----------+------------+-----------------+----------+\n",
            "|               title|    genre|original_language|            overview|popularity|release_date|     vote_average|vote_count|\n",
            "+--------------------+---------+-----------------+--------------------+----------+------------+-----------------+----------+\n",
            "|       A Special Day|    Drama|               it|In Rome, fascist ...|         7|  1977-08-11|8.100000381469727|       524|\n",
            "|       A Special Day|  Romance|               it|In Rome, fascist ...|         7|  1977-08-11|8.100000381469727|       524|\n",
            "|           Prisoners|    Drama|               en|Keller Dover face...|        44|  2013-09-18|8.100000381469727|      9409|\n",
            "|           Prisoners| Thriller|               en|Keller Dover face...|        44|  2013-09-18|8.100000381469727|      9409|\n",
            "|           Prisoners|    Crime|               en|Keller Dover face...|        44|  2013-09-18|8.100000381469727|      9409|\n",
            "|          Paper Moon|   Comedy|               en|During the Great ...|         9|  1973-05-09|7.900000095367432|       516|\n",
            "|          Paper Moon|    Crime|               en|During the Great ...|         9|  1973-05-09|7.900000095367432|       516|\n",
            "|          Paper Moon|    Drama|               en|During the Great ...|         9|  1973-05-09|7.900000095367432|       516|\n",
            "|The Last Picture ...|    Drama|               en|High school senio...|        10|  1971-10-03|7.699999809265137|       488|\n",
            "|     A Dog's Purpose|Adventure|               en|A dog goes on que...|        61|  2017-01-19|7.599999904632568|      2754|\n",
            "|     A Dog's Purpose|   Comedy|               en|A dog goes on que...|        61|  2017-01-19|7.599999904632568|      2754|\n",
            "|     A Dog's Purpose|  Fantasy|               en|A dog goes on que...|        61|  2017-01-19|7.599999904632568|      2754|\n",
            "|     A Dog's Purpose|   Family|               en|A dog goes on que...|        61|  2017-01-19|7.599999904632568|      2754|\n",
            "|     A Dog's Purpose|    Drama|               en|A dog goes on que...|        61|  2017-01-19|7.599999904632568|      2754|\n",
            "|Last Year At Mari...|    Drama|               fr|In a strange and ...|        11|  1961-05-25|              7.5|       370|\n",
            "|Last Year At Mari...|  Romance|               fr|In a strange and ...|        11|  1961-05-25|              7.5|       370|\n",
            "|      School Of Life|    Drama|               fr|Paris 1930. Paul ...|         7|  2017-02-22|7.400000095367432|       236|\n",
            "|      School Of Life|   Comedy|               fr|Paris 1930. Paul ...|         7|  2017-02-22|7.400000095367432|       236|\n",
            "|      School Of Life|   Family|               fr|Paris 1930. Paul ...|         7|  2017-02-22|7.400000095367432|       236|\n",
            "|  Fear Over The City|   Action|               fr|A serial-killer f...|         6|  1975-04-09|7.300000190734863|       201|\n",
            "+--------------------+---------+-----------------+--------------------+----------+------------+-----------------+----------+\n",
            "only showing top 20 rows\n",
            "\n"
          ]
        }
      ],
      "source": [
        "movie = movie.withColumn('genre', split(movie['genre'], ','))\n",
        "\n",
        "movie_exploded = movie.withColumn('genre', explode(movie['genre']))  # seperating multiple genre movies\n",
        "\n",
        "movie_exploded.show()"
      ]
    },
    {
      "cell_type": "markdown",
      "source": [
        "**USAGE OF RDD TECHNIQUE AS PER INSTRUCTIONS**"
      ],
      "metadata": {
        "id": "nm5oWBlyAzPQ"
      }
    },
    {
      "cell_type": "code",
      "execution_count": null,
      "metadata": {
        "colab": {
          "base_uri": "https://localhost:8080/"
        },
        "id": "PVdK-ySTFhzw",
        "outputId": "93dc3702-0744-4c1e-b191-c3b293d96813"
      },
      "outputs": [
        {
          "metadata": {
            "tags": null
          },
          "name": "stdout",
          "output_type": "stream",
          "text": [
            "+--------------------+--------------------+-----------------+--------------------+----------+------------+-----------------+----------+\n",
            "|               title|               genre|original_language|            overview|popularity|release_date|     vote_average|vote_count|\n",
            "+--------------------+--------------------+-----------------+--------------------+----------+------------+-----------------+----------+\n",
            "|       A Special Day|    [Drama, Romance]|               it|In Rome, fascist ...|         7|  1977-08-11|8.100000381469727|       524|\n",
            "|           Prisoners|[Drama, Thriller,...|               en|Keller Dover face...|        44|  2013-09-18|8.100000381469727|      9409|\n",
            "|          Paper Moon|[Comedy, Crime, D...|               en|During the Great ...|         9|  1973-05-09|7.900000095367432|       516|\n",
            "|The Last Picture ...|             [Drama]|               en|High school senio...|        10|  1971-10-03|7.699999809265137|       488|\n",
            "|     A Dog's Purpose|[Adventure, Comed...|               en|A dog goes on que...|        61|  2017-01-19|7.599999904632568|      2754|\n",
            "|Last Year At Mari...|    [Drama, Romance]|               fr|In a strange and ...|        11|  1961-05-25|              7.5|       370|\n",
            "|      School Of Life|[Drama, Comedy, F...|               fr|Paris 1930. Paul ...|         7|  2017-02-22|7.400000095367432|       236|\n",
            "|  Fear Over The City|[Action, Crime, D...|               fr|A serial-killer f...|         6|  1975-04-09|7.300000190734863|       201|\n",
            "|The Distinguished...|     [Comedy, Drama]|               es|After refusing bi...|         9|  2016-09-08|7.300000190734863|       203|\n",
            "|Superman: Man Of ...|[Animation, Actio...|               en|It’s the dawn of ...|        31|  2020-08-23|7.199999809265137|       346|\n",
            "|          Rudderless|[Music, Drama, Co...|               en|A grieving father...|         7|  2014-10-17|7.199999809265137|       247|\n",
            "|My Little Pony: T...|[Family, Animatio...|               en|A new dark force ...|        21|  2017-10-05|7.199999809265137|       308|\n",
            "|The Ballad Of Bus...|[Western, Comedy,...|               en|Vignettes weaving...|        26|  2018-11-09|7.099999904632568|      3312|\n",
            "|     Zabriskie Point|    [Drama, Romance]|               en|An epic portrait ...|         8|  1970-02-09|7.099999904632568|       313|\n",
            "|          Invisibles|     [Comedy, Drama]|               fr|Following a city ...|         7|  2019-01-09|7.099999904632568|       327|\n",
            "|             Amistad|[Drama, History, ...|               en|In 1839, the slav...|         4|  1997-12-10|              7.0|      1030|\n",
            "|      Matchstick Men|[Comedy, Drama, C...|               en|A phobic con arti...|         8|  2003-09-12|              7.0|      1388|\n",
            "|         Planet Hulk|[Science Fiction,...|               en|When the Hulk's p...|        33|  2010-02-02|              7.0|       380|\n",
            "|        The Believer|             [Drama]|               en|A hardcore US rac...|         9|  2001-08-23|              7.0|       487|\n",
            "|Batman & Mr. Free...|[Animation, Actio...|               en|When Mr. Freeze k...|        13|  1998-02-11|              7.0|       338|\n",
            "+--------------------+--------------------+-----------------+--------------------+----------+------------+-----------------+----------+\n",
            "only showing top 20 rows\n",
            "\n"
          ]
        }
      ],
      "source": [
        "# Convert DataFrame to RDD\n",
        "rdd = movie.rdd\n",
        "\n",
        "# rows will be filtered wherever vote avg is less than 1\n",
        "filtered_rdd = rdd.filter(lambda row: row['vote_average'] >= 1)\n",
        "filtered_df = spark.createDataFrame(filtered_rdd, movie.schema)\n",
        "filtered_df.show()\n"
      ]
    },
    {
      "cell_type": "markdown",
      "source": [
        "**WINDOWING TECHNIQUE**"
      ],
      "metadata": {
        "id": "96vwjNfBBATa"
      }
    },
    {
      "cell_type": "code",
      "execution_count": null,
      "metadata": {
        "colab": {
          "base_uri": "https://localhost:8080/"
        },
        "id": "REHjIxY5Fhs5",
        "outputId": "c3969762-27da-47d4-a51e-9dfd3e908a8d"
      },
      "outputs": [
        {
          "metadata": {
            "tags": null
          },
          "name": "stdout",
          "output_type": "stream",
          "text": [
            "+--------------------+-------------------+-----------------+--------------------+----------+------------+-----------------+----------+----+\n",
            "|               title|              genre|original_language|            overview|popularity|release_date|     vote_average|vote_count|rank|\n",
            "+--------------------+-------------------+-----------------+--------------------+----------+------------+-----------------+----------+----+\n",
            "|Anplagghed Al Cinema|               NULL|               it|A queue at the AT...|         4|  2006-11-26|              7.0|       313|   1|\n",
            "|   7 Kilos In 7 Days|               NULL|               it|Two not very clev...|         6|  1986-02-02|              6.0|       212|   2|\n",
            "|Amore, Bugie E Ca...|               NULL|               en|                NULL|         5|  2008-04-04|5.800000190734863|       200|   3|\n",
            "|              30.641|       [2015-01-16]|              6.5|                1383|      NULL|        NULL|6.792932119406819|      NULL|   1|\n",
            "|Mission: Impossib...|[Action, Adventure]|               en|Ethan and team ta...|        49|  2015-07-23|7.199999809265137|      7397|   1|\n",
            "|Mission: Impossib...|[Action, Adventure]|               en|When an IMF missi...|        62|  2018-07-13|7.400000095367432|      6677|   2|\n",
            "|            Hercules|[Action, Adventure]|               en|Fourteen hundred ...|        71|  2014-07-23|5.699999809265137|      3548|   3|\n",
            "|   The Mask Of Zorro|[Action, Adventure]|               en|It has been twent...|        27|  1998-07-16|              6.5|      3374|   4|\n",
            "|           Uncharted|[Action, Adventure]|               en|A young street-sm...|       957|  2022-02-10|7.099999904632568|      2846|   5|\n",
            "|Snake Eyes: G.i. ...|[Action, Adventure]|               en|After saving the ...|       186|  2021-06-26|6.699999809265137|      1177|   6|\n",
            "+--------------------+-------------------+-----------------+--------------------+----------+------------+-----------------+----------+----+\n",
            "only showing top 10 rows\n",
            "\n"
          ]
        }
      ],
      "source": [
        "window_spec = Window.partitionBy(\"genre\").orderBy(col(\"vote_count\").desc())\n",
        "\n",
        "# Ranking movies with vote counts and genres\n",
        "ranked_movies = movie.withColumn(\"rank\", rank().over(window_spec))\n",
        "\n",
        "ranked_movies.show(10)"
      ]
    },
    {
      "cell_type": "markdown",
      "metadata": {
        "id": "S1q4pXEVP4Vk"
      },
      "source": [
        "**ML ALGORITHMS**"
      ]
    },
    {
      "cell_type": "code",
      "execution_count": null,
      "metadata": {
        "colab": {
          "base_uri": "https://localhost:8080/"
        },
        "id": "RS_AV0svBzox",
        "outputId": "0d43ae8a-853a-4569-de52-f496c929c77c"
      },
      "outputs": [
        {
          "metadata": {
            "tags": null
          },
          "name": "stdout",
          "output_type": "stream",
          "text": [
            "+--------------------+--------------------+-----------------+--------------------+\n",
            "|               title|               genre|     vote_average|             details|\n",
            "+--------------------+--------------------+-----------------+--------------------+\n",
            "|       A Special Day|    [Drama, Romance]|8.100000381469727|Drama Romance In ...|\n",
            "|           Prisoners|[Drama, Thriller,...|8.100000381469727|Drama Thriller Cr...|\n",
            "|          Paper Moon|[Comedy, Crime, D...|7.900000095367432|Comedy Crime Dram...|\n",
            "|The Last Picture ...|             [Drama]|7.699999809265137|Drama High school...|\n",
            "|     A Dog's Purpose|[Adventure, Comed...|7.599999904632568|Adventure Comedy ...|\n",
            "|Last Year At Mari...|    [Drama, Romance]|              7.5|Drama Romance In ...|\n",
            "|      School Of Life|[Drama, Comedy, F...|7.400000095367432|Drama Comedy Fami...|\n",
            "|  Fear Over The City|[Action, Crime, D...|7.300000190734863|Action Crime Dram...|\n",
            "|The Distinguished...|     [Comedy, Drama]|7.300000190734863|Comedy Drama Afte...|\n",
            "|Superman: Man Of ...|[Animation, Actio...|7.199999809265137|Animation Action ...|\n",
            "|          Rudderless|[Music, Drama, Co...|7.199999809265137|Music Drama Comed...|\n",
            "|My Little Pony: T...|[Family, Animatio...|7.199999809265137|Family Animation ...|\n",
            "|The Ballad Of Bus...|[Western, Comedy,...|7.099999904632568|Western Comedy Dr...|\n",
            "|     Zabriskie Point|    [Drama, Romance]|7.099999904632568|Drama Romance An ...|\n",
            "|          Invisibles|     [Comedy, Drama]|7.099999904632568|Comedy Drama Foll...|\n",
            "|             Amistad|[Drama, History, ...|              7.0|Drama History Mys...|\n",
            "|      Matchstick Men|[Comedy, Drama, C...|              7.0|Comedy Drama Crim...|\n",
            "|         Planet Hulk|[Science Fiction,...|              7.0|Science Fiction A...|\n",
            "|        The Believer|             [Drama]|              7.0|Drama A hardcore ...|\n",
            "|Batman & Mr. Free...|[Animation, Actio...|              7.0|Animation Action ...|\n",
            "+--------------------+--------------------+-----------------+--------------------+\n",
            "only showing top 20 rows\n",
            "\n"
          ]
        }
      ],
      "source": [
        "d2 = movie.select(\"title\", \"genre\", \"overview\", \"vote_average\") #just simplifying datasets\n",
        "\n",
        "d2 = d2.withColumn(\"details\", concat_ws(\" \", col(\"genre\"), col(\"overview\"))) #combining two columns\n",
        "\n",
        "d2 = d2.drop(\"overview\") #dropping original column\n",
        "\n",
        "d2.show()"
      ]
    },
    {
      "cell_type": "markdown",
      "metadata": {
        "id": "I5FTteKCnes1"
      },
      "source": [
        "**K MEANS**"
      ]
    },
    {
      "cell_type": "code",
      "execution_count": null,
      "metadata": {
        "id": "aVzAo5yJP8xt",
        "colab": {
          "base_uri": "https://localhost:8080/"
        },
        "outputId": "d0c01eff-68ba-455b-fbc0-7e9bce21aece"
      },
      "outputs": [
        {
          "output_type": "stream",
          "name": "stdout",
          "text": [
            "+---------------------------------------+------------------------------------------------------------------------------------------------------------------------------------------------------------------------------------------------------------------------------------------------------------------------------------------------------------------------------------------------------------------------------------------------------------------------------------------------------------------------------------------------------------------------------------------------------------------------------------------+-------+\n",
            "|title                                  |details                                                                                                                                                                                                                                                                                                                                                                                                                                                                                                                                                                                   |cluster|\n",
            "+---------------------------------------+------------------------------------------------------------------------------------------------------------------------------------------------------------------------------------------------------------------------------------------------------------------------------------------------------------------------------------------------------------------------------------------------------------------------------------------------------------------------------------------------------------------------------------------------------------------------------------------+-------+\n",
            "|A Special Day                          |Drama Romance In Rome, fascist supporter Emanuele attends a parade commemorating Adolf Hitler's historic meeting with Italian leader Benito Mussolini, leaving his apolitical wife, Antonietta, to tend to household duties. Antonietta encounters a man, Gabriele, who appears surprisingly nonplussed by the political event. Over the course of the day, the two forge a close friendship that will forever change their perceptions of life, love and politics.                                                                                                                       |0      |\n",
            "|Prisoners                              |Drama Thriller Crime Keller Dover faces a parent's worst nightmare when his 6-year-old daughter, Anna, and her friend go missing. The only lead is an old motorhome that had been parked on their street. The head of the investigation, Detective Loki, arrests the driver, but a lack of evidence forces Loki to release his only suspect. Dover, knowing that his daughter's life is at stake, decides that he has no choice but to take matters into his own hands.                                                                                                                   |0      |\n",
            "|Paper Moon                             |Comedy Crime Drama During the Great Depression, a con man finds himself saddled with a young girl—who may or may not be his daughter—and the two forge an unlikely partnership.                                                                                                                                                                                                                                                                                                                                                                                                           |0      |\n",
            "|The Last Picture Show                  |Drama High school seniors and best friends, Sonny and Duane, live in a dying Texas town. The handsome Duane is dating a local beauty, while Sonny is having an affair with the coach's wife. As graduation nears and both boys contemplate their futures. Duane eyes the army and Sonny takes over a local business. Each struggles to figure out if he can escape this dead-end town and build a better life somewhere else.                                                                                                                                                             |0      |\n",
            "|A Dog's Purpose                        |Adventure Comedy Fantasy Family Drama A dog goes on quest to discover his purpose in life over the course of several lifetimes with multiple owners.                                                                                                                                                                                                                                                                                                                                                                                                                                      |0      |\n",
            "|Last Year At Marienbad                 |Drama Romance In a strange and isolated chateau, a man becomes acquainted with a woman and insists that they have met before.                                                                                                                                                                                                                                                                                                                                                                                                                                                             |0      |\n",
            "|School Of Life                         |Drama Comedy Family Paris 1930. Paul has only ever had one and the same horizon: the high walls of the orphanage, an austere building in the Parisian working class suburbs. Entrusted to a joyful country woman, Célestine, and her husband, Borel, the rather stiff gamekeeper of a vast estate in Sologne, the city child, recalcitrant and stubborn, arrives in a mysterious and disturbing world, that of a sovereign and wild region. The huge forest, misty ponds, heaths, and fields all belong to the Count de la Fresnaye, an elderly taciturn man who lives alone in his manor.|0      |\n",
            "|Fear Over The City                     |Action Crime Drama Thriller A serial-killer frightens Paris by phoning young ladies at night, telling them insults about their lives. Minos, as he calls himself, wants to prevent the world from free women and he targets at first these ones. Commissaire Letellier is given the investigation and he has hard work with the maniac.                                                                                                                                                                                                                                                   |0      |\n",
            "|The Distinguished Citizen              |Comedy Drama After refusing big and prestigious awards all over the world, Mr. Mantovani, Literature Nobel Prize winner, accepts an invitation to visit his hometown in Argentina, which has been the inspiration for all of his books. It turns out that accepting this invitation is the worse idea of his life. Expect the unexpected when you have used real people as characters in your novels!                                                                                                                                                                                     |0      |\n",
            "|Superman: Man Of Tomorrow              |Animation Action Science Fiction It’s the dawn of a new age of heroes, and Metropolis has just met its first. But as Daily Planet intern Clark Kent – working alongside reporter Lois Lane – secretly wields his alien powers of flight, super-strength and x-ray vision in the battle for good, there’s even greater trouble on the horizon.                                                                                                                                                                                                                                             |0      |\n",
            "|Rudderless                             |Music Drama Comedy A grieving father in a downward spiral stumbles across a box of his recently deceased son's demo tapes and lyrics. Shocked by the discovery of this unknown talent, he forms a band in the hope of finding some catharsis.                                                                                                                                                                                                                                                                                                                                             |0      |\n",
            "|My Little Pony: The Movie              |Family Animation Music Adventure Fantasy A new dark force threatens Ponyville, and the Mane 6 – Twilight Sparkle, Applejack, Rainbow Dash, Pinkie Pie, Fluttershy and Rarity – embark on an unforgettable journey beyond Equestria where they meet new friends and exciting challenges on a quest to use the magic of friendship and save their home.                                                                                                                                                                                                                                     |0      |\n",
            "|The Ballad Of Buster Scruggs           |Western Comedy Drama Vignettes weaving together the stories of six individuals in the old West at the end of the Civil War. Following the tales of a sharp-shooting songster, a wannabe bank robber, two weary traveling performers, a lone gold prospector, a woman traveling the West to an uncertain future, and a motley crew of strangers undertaking a carriage ride.                                                                                                                                                                                                               |0      |\n",
            "|Zabriskie Point                        |Drama Romance An epic portrait of late Sixties America, as seen through the portrayal of two of its children: anthropology student Daria (who's helping a property developer build a village in the Los Angeles desert) and dropout Mark (who's wanted by the authorities for allegedly killing a policeman during a student riot)...                                                                                                                                                                                                                                                     |0      |\n",
            "|Invisibles                             |Comedy Drama Following a city councils decision, a women's shelter will soon be closed and social workers have only three months to accommodate the residents.                                                                                                                                                                                                                                                                                                                                                                                                                            |0      |\n",
            "|Amistad                                |Drama History Mystery In 1839, the slave ship Amistad set sail from Cuba to America. During the long trip, Cinque leads the slaves in an unprecedented uprising. They are then held prisoner in Connecticut, and their release becomes the subject of heated debate. Freed slave Theodore Joadson wants Cinque and the others exonerated and recruits property lawyer Roger Baldwin to help his case. Eventually, John Quincy Adams also becomes an ally.                                                                                                                                 |0      |\n",
            "|Matchstick Men                         |Comedy Drama Crime Thriller A phobic con artist and his protege are on the verge of pulling off a lucrative swindle when the con artist's teenage daughter arrives unexpectedly.                                                                                                                                                                                                                                                                                                                                                                                                          |0      |\n",
            "|Planet Hulk                            |Science Fiction Animation Action When the Hulk's presence on Earth becomes too great a risk, the Illuminati trick him to board a shuttle destined for a planet where he will be able to live in peace, and launch it into space. The Hulk's struggle to escape causes the shuttle to malfunction and crash land on the planet Sakaar, however, where he is sold into slavery and trained as a gladiator.                                                                                                                                                                                  |0      |\n",
            "|The Believer                           |Drama A hardcore US racist skinhead who, because of his intelligence, leads a gang dedicated to fighting the enemy: the supposed American-Jewish conspiracy for domination. However, he's hiding a secret: he's Jewish-born, a brilliant scholar whose questioning of the tenets of his faith has left him angry and confused, turning against those who he thinks have a tragic history of their own making.                                                                                                                                                                             |0      |\n",
            "|Batman & Mr. Freeze: Under Frysepunktet|Animation Action Crime When Mr. Freeze kidnaps Barbara Gordon, as an involuntary organ donor to save his dying wife, Batman and Robin must find her before the operation can begin.                                                                                                                                                                                                                                                                                                                                                                                                       |0      |\n",
            "+---------------------------------------+------------------------------------------------------------------------------------------------------------------------------------------------------------------------------------------------------------------------------------------------------------------------------------------------------------------------------------------------------------------------------------------------------------------------------------------------------------------------------------------------------------------------------------------------------------------------------------------+-------+\n",
            "only showing top 20 rows\n",
            "\n"
          ]
        }
      ],
      "source": [
        "tokenizer = Tokenizer(inputCol=\"details\", outputCol=\"words\")\n",
        "d2 = tokenizer.transform(d2)\n",
        "\n",
        "# Remove stop words\n",
        "remover = StopWordsRemover(inputCol=\"words\", outputCol=\"filtered_words\")\n",
        "d2 = remover.transform(d2)\n",
        "\n",
        "# Compute TF (Term Frequency)\n",
        "hashingTF = HashingTF(inputCol=\"filtered_words\", outputCol=\"raw_features\", numFeatures=20000)\n",
        "d2 = hashingTF.transform(d2)\n",
        "\n",
        "# Compute IDF (Inverse Document Frequency)\n",
        "idf = IDF(inputCol=\"raw_features\", outputCol=\"tfidf_features\")\n",
        "idf_model = idf.fit(d2)\n",
        "d2 = idf_model.transform(d2)\n",
        "\n",
        "# Apply KMeans clustering\n",
        "kmeans = KMeans(featuresCol=\"tfidf_features\", predictionCol=\"cluster\", k=5)  # Choose k clusters\n",
        "kmeans_model = kmeans.fit(d2)\n",
        "\n",
        "clusters = kmeans_model.transform(d2)\n",
        "\n",
        "clusters.select(\"title\", \"details\", \"cluster\").show(truncate=False)"
      ]
    },
    {
      "cell_type": "code",
      "execution_count": null,
      "metadata": {
        "id": "Ic1WwcLNP8uU"
      },
      "outputs": [],
      "source": [
        "def recommend_movies_kmeans(movie_title, n_recommendations=5):\n",
        "    # Step 1: Find the cluster of the input movie\n",
        "    movie_cluster = clusters.filter(col(\"title\") == movie_title).select(\"cluster\").collect()\n",
        "\n",
        "    if not movie_cluster:  # If the movie is not found\n",
        "        return \"Movie not found\"\n",
        "\n",
        "    movie_cluster = movie_cluster[0][\"cluster\"]\n",
        "\n",
        "    # Step 2: Find other movies in the same cluster\n",
        "    recommend_movies1 = clusters.filter(col(\"cluster\") == movie_cluster).filter(col(\"title\") != movie_title)\n",
        "\n",
        "    # Step 3: Randomly sample `n_recommendations` from the same cluster\n",
        "    recommendations1 = recommend_movies1.select(\"title\").limit(n_recommendations).rdd.map(lambda row: row[\"title\"]).collect()\n",
        "\n",
        "    return recommendations1"
      ]
    },
    {
      "cell_type": "code",
      "execution_count": null,
      "metadata": {
        "id": "x5nW3hFgP8rP"
      },
      "outputs": [],
      "source": [
        "# Example usage\n",
        "recommendations_kmeans = recommend_movies_kmeans(\"Dilwale Dulhania Le Jayenge\", 5)\n",
        "print(recommendations_kmeans)"
      ]
    },
    {
      "cell_type": "code",
      "source": [],
      "metadata": {
        "id": "qa-F7qTglPa3"
      },
      "execution_count": null,
      "outputs": []
    },
    {
      "cell_type": "code",
      "execution_count": null,
      "metadata": {
        "id": "SRZPydw_CZk2"
      },
      "outputs": [],
      "source": [
        "d2.select(\"title\").distinct().count()"
      ]
    },
    {
      "cell_type": "markdown",
      "metadata": {
        "id": "gAkh9ToSnhbp"
      },
      "source": [
        "**DENSITY BASED CLUSTERING**"
      ]
    },
    {
      "cell_type": "code",
      "execution_count": null,
      "metadata": {
        "id": "D8Qd8AecP8hY"
      },
      "outputs": [],
      "source": [
        "d3 = d2.withColumn(\"row_id\", monotonically_increasing_id()) #creating another dataframe\n",
        "\n",
        "d3 = d3.withColumn(\"title_normalized\", trim(lower(col(\"title\")))) #normalizing title\n",
        "\n",
        "tfidf_vectors = d3.select(\"tfidf_features\").toPandas()            # extracting features\n",
        "tfidf_vectors = tfidf_vectors[\"tfidf_features\"].apply(lambda x: x.toArray()).tolist()\n",
        "\n",
        "# Apply DBSCAN clustering\n",
        "dbscan = DBSCAN(eps=1.5, min_samples=2, metric='cosine')  # Adjusted parameters\n",
        "dbscan_labels = dbscan.fit_predict(tfidf_vectors)\n",
        "\n",
        "#Convert DBSCAN labels to a DataFrame with matching `row_id`\n",
        "labels_with_id = [(int(label), idx) for idx, label in enumerate(dbscan_labels)]\n",
        "labels_df = spark.createDataFrame(labels_with_id, [\"cluster2\", \"row_id\"])\n",
        "\n",
        "#Ensure `row_id` in `labels_df` matches `row_id` in `d3`\n",
        "labels_df = labels_df.withColumn(\"row_id\", col(\"row_id\").cast(IntegerType()))\n",
        "\n",
        "d3 = d3.join(labels_df, on=\"row_id\", how=\"inner\")\n",
        "\n",
        "d3 = d3.filter(col(\"cluster2\") != -1)\n",
        "\n"
      ]
    },
    {
      "cell_type": "code",
      "source": [
        "def recommend_movies_dbscan(movie_title, n_recommendations=5):  # creating function to recommend movies\n",
        "    movie_title_normalized = movie_title.lower().strip()\n",
        "\n",
        "    movie_cluster = d3.filter(col(\"title_normalized\") == movie_title_normalized).select(\"cluster2\").collect()\n",
        "\n",
        "    if not movie_cluster:\n",
        "        return \"Movie not found\"\n",
        "\n",
        "    movie_cluster = movie_cluster[0][\"cluster2\"] #\n",
        "\n",
        "    if movie_cluster == -1:\n",
        "        return \"The movie belongs to a noise cluster and cannot have recommendations.\" #movies can end up in noisy cluster\n",
        "\n",
        "    recommend_movies2 = d3.filter((col(\"cluster2\") == movie_cluster) & (col(\"title_normalized\") != movie_title_normalized))\n",
        "\n",
        "    recommendations2 = recommend_movies2.select(\"title\").limit(n_recommendations).rdd.map(lambda row: row[\"title\"]).collect()\n",
        "\n",
        "    return recommendations2"
      ],
      "metadata": {
        "id": "SnZ4M3XWDiB4"
      },
      "execution_count": null,
      "outputs": []
    },
    {
      "cell_type": "code",
      "source": [
        "# Example usage of the recommendation function\n",
        "recommendations_dbs = recommend_movies_dbscan(\"Paper Moon\", 5)\n",
        "print(recommendations_dbs)"
      ],
      "metadata": {
        "id": "dz3oDtjnDkzN"
      },
      "execution_count": null,
      "outputs": []
    },
    {
      "cell_type": "markdown",
      "source": [
        "**KNN**"
      ],
      "metadata": {
        "id": "plDuP_9y1wXk"
      }
    },
    {
      "cell_type": "code",
      "source": [
        "if \"norm_features\" in d2.columns:\n",
        "    d5 = d2.drop(\"norm_features\")\n",
        "\n",
        "# Normalize TF-IDF vectors for cosine similarity\n",
        "normalizer = Normalizer(inputCol=\"tfidf_features\", outputCol=\"norm_features\", p=2.0)\n",
        "d5 = normalizer.transform(d2)\n",
        "\n",
        "# Step 2: Define a UDF for cosine similarity\n",
        "def cosine_similarity(vec1, vec2):\n",
        "    # Convert vec2 to DenseVector if it's a list (from array literal)\n",
        "    if isinstance(vec2, list):\n",
        "        vec2 = DenseVector(vec2)\n",
        "\n",
        "    dot_product = float(vec1.dot(vec2))\n",
        "    magnitude = float(vec1.norm(2) * vec2.norm(2))\n",
        "    return dot_product / magnitude if magnitude != 0 else 0.0\n",
        "\n",
        "cosine_similarity_udf = udf(cosine_similarity, DoubleType())"
      ],
      "metadata": {
        "id": "0Wy7G6IzQZcd"
      },
      "execution_count": null,
      "outputs": []
    },
    {
      "cell_type": "code",
      "source": [
        "def find_knn(movie_title, k=5):\n",
        "    # Get the normalized vector for the input movie\n",
        "    movie_row = d5.filter(col(\"title\") == movie_title).select(\"norm_features\").collect()\n",
        "\n",
        "    if not movie_row:\n",
        "        return f\"Movie '{movie_title}' not found.\"\n",
        "\n",
        "    # Extract the normalized feature vector directly\n",
        "    movie_vector = movie_row[0][\"norm_features\"]  # No need to convert to array\n",
        "\n",
        "    # Convert SparseVector to a format compatible with lit()\n",
        "    if isinstance(movie_vector, SparseVector):\n",
        "        movie_vector_lit = array([lit(x) for x in movie_vector.toArray()]) # Convert to array literal\n",
        "    else:\n",
        "        movie_vector_lit = lit(movie_vector)  # If already DenseVector, use lit directly\n",
        "\n",
        "    # Compute cosine similarity for all movies using UDF\n",
        "    d5_with_similarity = d5.withColumn(\n",
        "        \"similarity\",\n",
        "        cosine_similarity_udf(col(\"norm_features\"), movie_vector_lit)\n",
        "    )\n",
        "\n",
        "    # Get the top K nearest neighbors (excluding the input movie)\n",
        "    knn = (\n",
        "        d5_with_similarity.filter(col(\"title\") != movie_title)\n",
        "        .orderBy(col(\"similarity\").desc())\n",
        "        .select(\"title\", \"similarity\")\n",
        "        .limit(k)\n",
        "    )\n",
        "\n",
        "    return knn.collect()"
      ],
      "metadata": {
        "id": "FlMhv09-TS0o"
      },
      "execution_count": null,
      "outputs": []
    },
    {
      "cell_type": "code",
      "source": [
        "movie_title = \"Dilwale Dulhania Le Jayenge\" #declaring movie name\n",
        "k = 5\n",
        "knn_recommendations = find_knn(movie_title, k)\n",
        "print(f\"Top {k} recommendations for '{movie_title}':\")\n",
        "recommendation_list = [row[\"title\"] for row in knn_recommendations]\n",
        "print(recommendation_list)"
      ],
      "metadata": {
        "id": "clw08FeZTSp3"
      },
      "execution_count": null,
      "outputs": []
    },
    {
      "cell_type": "markdown",
      "source": [
        "**COSINE SIMILARITY BASED**"
      ],
      "metadata": {
        "id": "6gr5w-9M1ivN"
      }
    },
    {
      "cell_type": "code",
      "source": [
        "tfidf_vectors = d2.select(\"tfidf_features\").toPandas()\n",
        "titles = d2.select(\"title\").toPandas()[\"title\"]\n",
        "\n",
        "tfidf_matrix = np.array([vector.toArray() for vector in tfidf_vectors[\"tfidf_features\"]]) #tfidf matrix extracting\n",
        "\n",
        "# Compute cosine similarity\n",
        "cosine_sim_matrix = cosine_similarity(tfidf_matrix, tfidf_matrix)"
      ],
      "metadata": {
        "id": "h1j9VZPW0tfQ"
      },
      "execution_count": null,
      "outputs": []
    },
    {
      "cell_type": "code",
      "source": [
        "\n",
        "def recommend_movies_cosine(movie_title, n_recommendations=5):\n",
        "    # Check if the movie is in the dataset\n",
        "    if movie_title not in titles.values:\n",
        "        return f\"Movie '{movie_title}' not found in the dataset.\"\n",
        "\n",
        "    # Find the index of the input movie\n",
        "    movie_idx = titles[titles == movie_title].index[0]\n",
        "\n",
        "    # Get similarity scores for the movie\n",
        "    similarity_scores = list(enumerate(cosine_sim_matrix[movie_idx]))\n",
        "\n",
        "    # Sort movies by similarity score (excluding the movie itself)\n",
        "    sorted_scores = sorted(similarity_scores, key=lambda x: x[1], reverse=True)\n",
        "    sorted_scores = sorted_scores[1:]  # Exclude the movie itself\n",
        "\n",
        "    # Get top `n_recommendations`\n",
        "    top_indices = [idx for idx, _ in sorted_scores[:n_recommendations]]\n",
        "    recommendations = titles.iloc[top_indices].tolist()\n",
        "\n",
        "    return recommendations"
      ],
      "metadata": {
        "id": "vLGjmckvTr32"
      },
      "execution_count": null,
      "outputs": []
    },
    {
      "cell_type": "code",
      "source": [
        "recommended_movies = recommend_movies_cosine(\"Dilwale Dulhania Le Jayenge\", n_recommendations=5)\n",
        "print(recommended_movies)\n"
      ],
      "metadata": {
        "id": "QSoBBhj9TrvI",
        "outputId": "8f655ff3-90f3-4b0f-e2d4-9a3eab17ebe9",
        "colab": {
          "base_uri": "https://localhost:8080/"
        }
      },
      "execution_count": null,
      "outputs": [
        {
          "output_type": "stream",
          "name": "stdout",
          "text": [
            "['The Exterminating Angel', 'After The Wedding', 'The Secret Garden', 'A Passage To India', 'Bajrangi Bhaijaan']\n"
          ]
        }
      ]
    },
    {
      "cell_type": "markdown",
      "source": [
        "**SPECTRAL**"
      ],
      "metadata": {
        "id": "5HltWxdu18RR"
      }
    },
    {
      "cell_type": "code",
      "source": [
        "d4 = d2.withColumn(\"row_id\", monotonically_increasing_id())\n",
        "\n",
        "d4 = d4.withColumn(\"title_normalized\", trim(lower(col(\"title\"))))\n",
        "\n",
        "tfidf_vectors = d4.select(\"tfidf_features\").toPandas()\n",
        "tfidf_vectors = tfidf_vectors[\"tfidf_features\"].apply(lambda x: x.toArray()).tolist()\n",
        "\n",
        "# Apply Spectral Clustering\n",
        "spectral = SpectralClustering(n_clusters=10, random_state=0, affinity='nearest_neighbors')\n",
        "clu_labels = spectral.fit_predict(tfidf_vectors)\n",
        "\n",
        "# Convert clustering labels to a PySpark DataFrame\n",
        "labels_with_id = [(int(label), idx) for idx, label in enumerate(clu_labels)]\n",
        "labels_df = spark.createDataFrame(labels_with_id, [\"cluster_spec\", \"row_id\"])\n",
        "\n",
        "#  Ensure `row_id` in `labels_df` matches `row_id` in `d4`\n",
        "labels_df = labels_df.withColumn(\"row_id\", col(\"row_id\").cast(IntegerType()))\n",
        "\n",
        "# Join the labels back to the `d4` DataFrame\n",
        "d4 = d4.join(labels_df, on=\"row_id\", how=\"inner\")\n",
        "\n",
        "# Check cluster assignments in d4\n",
        "d4.groupBy(\"cluster_spec\").count().show()\n",
        "\n"
      ],
      "metadata": {
        "colab": {
          "base_uri": "https://localhost:8080/"
        },
        "id": "tkjzlWaH12G8",
        "outputId": "473d7a0b-4a4b-4738-939d-2d257eaa5f4c"
      },
      "execution_count": null,
      "outputs": [
        {
          "output_type": "stream",
          "name": "stdout",
          "text": [
            "+------------+-----+\n",
            "|cluster_spec|count|\n",
            "+------------+-----+\n",
            "|           0| 3744|\n",
            "|           7|   14|\n",
            "|           6|    3|\n",
            "|           9|  493|\n",
            "|           5|    2|\n",
            "|           1|    1|\n",
            "|           3|    6|\n",
            "|           8|  103|\n",
            "|           2|  619|\n",
            "|           4|    3|\n",
            "+------------+-----+\n",
            "\n"
          ]
        }
      ]
    },
    {
      "cell_type": "code",
      "source": [
        "def recommend_movies_spec(movie_title, n_recommendations=5):\n",
        "    # Normalize the input title\n",
        "    movie_title_normalized = movie_title.lower().strip()\n",
        "\n",
        "    # Find the cluster of the input movie\n",
        "    movie_cluster = d4.filter(col(\"title_normalized\") == movie_title_normalized).select(\"cluster_spec\").collect()\n",
        "\n",
        "    if not movie_cluster:  # If the movie is not found\n",
        "        return f\"Movie '{movie_title}' not found in the dataset. Check title formatting or dataset.\"\n",
        "\n",
        "    movie_cluster = movie_cluster[0][\"cluster_spec\"]\n",
        "\n",
        "    # Find other movies in the same cluster\n",
        "    recommend_movies4 = d4.filter((col(\"cluster_spec\") == movie_cluster) & (col(\"title_normalized\") != movie_title_normalized))\n",
        "\n",
        "    #  Randomly sample `n_recommendations` from the same cluster\n",
        "    recommendations4 = recommend_movies4.select(\"title\").limit(n_recommendations).rdd.map(lambda row: row[\"title\"]).collect()\n",
        "\n",
        "    return recommendations4 if recommendations4 else \"No recommendations available in this cluster.\"\n",
        "\n"
      ],
      "metadata": {
        "id": "iJIprS6oUIT9"
      },
      "execution_count": null,
      "outputs": []
    },
    {
      "cell_type": "code",
      "source": [
        "recommendations_spec = recommend_movies_spec(\"The Last Picture Show\", 5)\n",
        "print(recommendations_spec)"
      ],
      "metadata": {
        "id": "SRdmGhsVUILu",
        "outputId": "f8ce6027-8248-4b8b-ceeb-a10c3dcbb006",
        "colab": {
          "base_uri": "https://localhost:8080/"
        }
      },
      "execution_count": null,
      "outputs": [
        {
          "output_type": "stream",
          "name": "stdout",
          "text": [
            "['A Special Day', 'Prisoners', 'Paper Moon', 'Last Year At Marienbad', 'Fear Over The City']\n"
          ]
        }
      ]
    },
    {
      "cell_type": "markdown",
      "source": [
        "**AGGLOMERATIVE CLUSTERING**"
      ],
      "metadata": {
        "id": "Q_Bqz26jYdqj"
      }
    },
    {
      "cell_type": "code",
      "source": [
        "d4 = d2.limit(1000)\n",
        "d4 = d4.withColumn(\"row_id\", monotonically_increasing_id())\n",
        "\n",
        "# Normalize the title column in d4 for consistent matching\n",
        "d4 = d4.withColumn(\"title_normalized\", trim(lower(col(\"title\"))))\n",
        "\n",
        "tfidf_vectors = d4.select(\"tfidf_features\").toPandas()\n",
        "tfidf_vectors = tfidf_vectors[\"tfidf_features\"].apply(lambda x: x.toArray()).tolist()\n",
        "\n",
        "# Step 3: Apply Agglomerative Clustering\n",
        "clu = AgglomerativeClustering(n_clusters=10)  # Adjust the number of clusters as needed\n",
        "clu_labels = clu.fit_predict(tfidf_vectors)\n",
        "\n",
        "labels_with_id = [(int(label), idx) for idx, label in enumerate(clu_labels)]\n",
        "labels_df = spark.createDataFrame(labels_with_id, [\"cluster_agg\", \"row_id\"])\n",
        "\n",
        "labels_df = labels_df.withColumn(\"row_id\", col(\"row_id\").cast(IntegerType()))\n",
        "\n",
        "d4 = d4.join(labels_df, on=\"row_id\", how=\"inner\") #joining labels back\n",
        "\n",
        "\n"
      ],
      "metadata": {
        "id": "Uo04hXb84Ubr"
      },
      "execution_count": null,
      "outputs": []
    },
    {
      "cell_type": "code",
      "source": [
        "def recommend_movies_agg(movie_title, n_recommendations=5):\n",
        "    # Normalize the input title\n",
        "    movie_title_normalized = movie_title.lower().strip()\n",
        "\n",
        "    movie_cluster = d4.filter(col(\"title_normalized\") == movie_title_normalized).select(\"cluster_agg\").collect()\n",
        "\n",
        "    if not movie_cluster:  # If the movie is not found\n",
        "        return f\"Movie '{movie_title}' not found in the dataset. Check title formatting or dataset.\"\n",
        "\n",
        "    movie_cluster = movie_cluster[0][\"cluster_agg\"]\n",
        "\n",
        "    # Ensure the movie is in a valid cluster\n",
        "    if movie_cluster == -1:\n",
        "        return \"The movie belongs to a noise cluster and cannot have recommendations.\"\n",
        "\n",
        "    #Finding other movies in the same cluster\n",
        "    recommend_movies4 = d4.filter((col(\"cluster_agg\") == movie_cluster) & (col(\"title_normalized\") != movie_title_normalized))\n",
        "\n",
        "    # Randomly sample n_recommendations from the same cluster\n",
        "    recommendations4 = recommend_movies4.select(\"title\").limit(n_recommendations).rdd.map(lambda row: row[\"title\"]).collect()\n",
        "\n",
        "    return recommendations4 if recommendations4 else \"No recommendations available in this cluster.\""
      ],
      "metadata": {
        "id": "_4jdUDzOYhyV"
      },
      "execution_count": null,
      "outputs": []
    },
    {
      "cell_type": "code",
      "source": [
        "print(recommend_movies_agg('The Last Picture Show',5))"
      ],
      "metadata": {
        "id": "K--NbEs0WTeX",
        "outputId": "0e3308e7-0d8d-4008-a6a7-35c43083b9c7",
        "colab": {
          "base_uri": "https://localhost:8080/"
        }
      },
      "execution_count": null,
      "outputs": [
        {
          "output_type": "stream",
          "name": "stdout",
          "text": [
            "['A Special Day', 'Prisoners', 'Paper Moon', \"A Dog's Purpose\", 'Last Year At Marienbad']\n"
          ]
        }
      ]
    },
    {
      "cell_type": "code",
      "source": [
        "# Function to calculate average similarity for clusters\n",
        "def average_similarity(labels, tfidf_vectors):\n",
        "    \"\"\"\n",
        "    Calculates the average cosine similarity within clusters.\n",
        "    \"\"\"\n",
        "    cluster_similarity = []\n",
        "    for label in np.unique(labels):\n",
        "        cluster_indices = np.where(labels == label)[0]\n",
        "        if len(cluster_indices) > 1:  # Only calculate for clusters with more than 1 item\n",
        "            cluster_vectors = tfidf_vectors[cluster_indices]\n",
        "            similarity_matrix = cosine_similarity(cluster_vectors)\n",
        "            upper_triangle_indices = np.triu_indices_from(similarity_matrix, k=1)\n",
        "            avg_similarity = np.mean(similarity_matrix[upper_triangle_indices])\n",
        "            cluster_similarity.append(avg_similarity)\n",
        "    return np.mean(cluster_similarity) if cluster_similarity else 0"
      ],
      "metadata": {
        "id": "gBti0_sbflOx"
      },
      "execution_count": null,
      "outputs": []
    },
    {
      "cell_type": "code",
      "source": [
        "# Prepare TF-IDF vectors for similarity calculations\n",
        "tfidf_vectors2 = np.array(d4.select(\"tfidf_features\").rdd.map(lambda row: row[\"tfidf_features\"].toArray()).collect())\n",
        "# KMeans Model\n",
        "kmeans_labels = np.array(d4.select(\"cluster_agg\").rdd.map(lambda row: row[\"cluster_agg\"]).collect())\n",
        "kmeans_avg_similarity = average_similarity(kmeans_labels, tfidf_vectors2)"
      ],
      "metadata": {
        "id": "j1diFL7yh7x8"
      },
      "execution_count": null,
      "outputs": []
    },
    {
      "cell_type": "code",
      "source": [
        "tfidf_vectors3 = np.array(d4.select(\"tfidf_features\").rdd.map(lambda row: row[\"tfidf_features\"].toArray()).collect())\n",
        "\n",
        "dbscan = DBSCAN(eps=1.5, min_samples=2, metric=\"cosine\")\n",
        "dbscan_labels = dbscan.fit_predict(tfidf_vectors)\n",
        "dbscan_avg_similarity = average_similarity(dbscan_labels, tfidf_vectors3)"
      ],
      "metadata": {
        "id": "9-0JnQ7wh7mV"
      },
      "execution_count": null,
      "outputs": []
    },
    {
      "cell_type": "code",
      "source": [
        "spectral = SpectralClustering(n_clusters=5, affinity='cosine', random_state=42)\n",
        "spectral_labels = spectral.fit_predict(tfidf_vectors3)\n",
        "spectral_avg_similarity = average_similarity(spectral_labels, tfidf_vectors3)"
      ],
      "metadata": {
        "id": "5g8pC_u9h7b_"
      },
      "execution_count": null,
      "outputs": []
    },
    {
      "cell_type": "code",
      "source": [
        "agglomerative_labels = clu.fit_predict(tfidf_vectors3)\n",
        "agglomerative_avg_similarity = average_similarity(agglomerative_labels, tfidf_vectors3)"
      ],
      "metadata": {
        "id": "tTotUwU4o01I"
      },
      "execution_count": null,
      "outputs": []
    },
    {
      "cell_type": "code",
      "source": [
        "\n",
        "def cosine_similarity_for_clusters(movie_title, tfidf_vectors, labels, movie_list, n_recommendations=5):\n",
        "    \"\"\"\n",
        "    Recommends movies based on cosine similarity for all items in the same cluster.\n",
        "    \"\"\"\n",
        "    # Find the movie's cluster\n",
        "    movie_index = movie_list.index(movie_title)\n",
        "    movie_cluster = labels[movie_index]\n",
        "\n",
        "    # Get all indices in the same cluster\n",
        "    cluster_indices = [i for i, lbl in enumerate(labels) if lbl == movie_cluster and i != movie_index]\n",
        "\n",
        "    # Calculate cosine similarity between the movie and others in the same cluster\n",
        "    target_vector = tfidf_vectors[movie_index]\n",
        "    # Use NumPy advanced indexing to select multiple vectors\n",
        "    cluster_vectors = tfidf_vectors[cluster_indices]  # Changed line\n",
        "\n",
        "    similarities = cosine_similarity([target_vector], cluster_vectors)[0]\n",
        "    top_indices = np.argsort(-similarities)[:n_recommendations]\n",
        "    recommendations6 = [movie_list[cluster_indices[i]] for i in top_indices]\n",
        "\n",
        "    return recommendations6"
      ],
      "metadata": {
        "id": "vrw0TFdUo0kf"
      },
      "execution_count": null,
      "outputs": []
    },
    {
      "cell_type": "code",
      "source": [
        "# List of movie titles\n",
        "movie_list = d4.select(\"title\").rdd.map(lambda row: row[\"title\"]).collect()"
      ],
      "metadata": {
        "id": "eqF_e0_so0gu"
      },
      "execution_count": null,
      "outputs": []
    },
    {
      "cell_type": "code",
      "source": [
        "example_movie = \"The Last Picture Show\"\n",
        "cosine_recommendations = cosine_similarity_for_clusters(example_movie, tfidf_vectors3, kmeans_labels, movie_list)\n",
        "print(f\"Cosine Similarity Recommendations for '{example_movie}': {cosine_recommendations}\")"
      ],
      "metadata": {
        "colab": {
          "base_uri": "https://localhost:8080/"
        },
        "id": "6FUkIlmLqInP",
        "outputId": "9dbbbca0-028b-4eba-8dd4-757cf7ba9b9a"
      },
      "execution_count": null,
      "outputs": [
        {
          "output_type": "stream",
          "name": "stdout",
          "text": [
            "Cosine Similarity Recommendations for 'The Last Picture Show': ['Dog Day Afternoon', 'Blood Simple', 'Mallrats', 'Six Days Seven Nights', 'Beach Rats']\n"
          ]
        }
      ]
    },
    {
      "cell_type": "code",
      "source": [
        "similarity_scores = [\n",
        "    {\"Algorithm\": \"KMeans\", \"Average Similarity\": kmeans_avg_similarity},\n",
        "    {\"Algorithm\": \"DBSCAN\", \"Average Similarity\": dbscan_avg_similarity},\n",
        "    {\"Algorithm\": \"Spectral Clustering\", \"Average Similarity\": spectral_avg_similarity},\n",
        "    {\"Algorithm\": \"Agglomerative Clustering\", \"Average Similarity\": agglomerative_avg_similarity},\n",
        "    {\"Algorithm\": \"cosine similarity\", \"Average Similarity\": average_similarity}\n",
        "]"
      ],
      "metadata": {
        "id": "vtSAZ5r0qIj2"
      },
      "execution_count": null,
      "outputs": []
    },
    {
      "cell_type": "code",
      "source": [
        "from pyspark.sql.types import StructType, StructField, StringType, FloatType\n",
        "\n",
        "schema = StructType([\n",
        "    StructField(\"Algorithm\", StringType(), True),\n",
        "    StructField(\"Average Similarity\", FloatType(), True)\n",
        "])\n",
        "\n",
        "# Assuming average_similarity is a function requiring labels and tfidf_vectors\n",
        "def calculate_average_similarity(item, labels, tfidf_vectors):\n",
        "    if callable(item[\"Average Similarity\"]):\n",
        "        # Call the function with labels and tfidf_vectors\n",
        "        return float(item[\"Average Similarity\"](labels, tfidf_vectors))\n",
        "    else:\n",
        "        return float(item[\"Average Similarity\"])\n",
        "\n",
        "# Pass labels and tfidf_vectors to calculate_average_similarity\n",
        "similarity_scores_fixed = [\n",
        "    {\n",
        "        \"Algorithm\": item[\"Algorithm\"],\n",
        "        \"Average Similarity\": calculate_average_similarity(item, kmeans_labels, tfidf_vectors3) # Assuming these are the correct variables\n",
        "    }\n",
        "    for item in similarity_scores\n",
        "]\n",
        "\n",
        "# Create a DataFrame with the defined schema and corrected data\n",
        "similarity_df = spark.createDataFrame(similarity_scores_fixed, schema=schema)"
      ],
      "metadata": {
        "id": "x1ekYMfuqIgs"
      },
      "execution_count": null,
      "outputs": []
    },
    {
      "cell_type": "code",
      "source": [
        "# Show results\n",
        "similarity_df.show(truncate=False)"
      ],
      "metadata": {
        "colab": {
          "base_uri": "https://localhost:8080/"
        },
        "id": "Ae1Qsk1XqIdV",
        "outputId": "0735d584-11ed-4c88-a538-c4e5403d2c94"
      },
      "execution_count": null,
      "outputs": [
        {
          "output_type": "stream",
          "name": "stdout",
          "text": [
            "+------------------------+------------------+\n",
            "|Algorithm               |Average Similarity|\n",
            "+------------------------+------------------+\n",
            "|KMeans                  |0.027704144       |\n",
            "|DBSCAN                  |0.007003239       |\n",
            "|Spectral Clustering     |0.012550148       |\n",
            "|Agglomerative Clustering|0.027704144       |\n",
            "|cosine similarity       |0.027704144       |\n",
            "+------------------------+------------------+\n",
            "\n"
          ]
        }
      ]
    },
    {
      "cell_type": "markdown",
      "source": [
        "**VISUALIZATIONS**"
      ],
      "metadata": {
        "id": "3aZqWh_7vRPb"
      }
    },
    {
      "cell_type": "code",
      "source": [
        "\n",
        "import matplotlib.pyplot as plt\n",
        "\n",
        "\n",
        "data = {\n",
        "    'Algorithm': ['KMeans', 'DBSCAN', 'Spectral Clustering', 'Agglomerative Clustering', 'cosine similarity'],\n",
        "    'Average Similarity': [0.5, 0.6, 0.7, 0.4, 0.8] # Example similarity scores\n",
        "}\n",
        "\n",
        "df = pd.DataFrame(data)\n",
        "\n",
        "\n",
        "plt.figure(figsize=(10, 6))\n",
        "plt.bar(df['Algorithm'], df['Average Similarity'], color='skyblue')\n",
        "plt.xlabel('Clustering Algorithm')\n",
        "plt.ylabel('Average Similarity')\n",
        "plt.title('Average Similarity Scores for Different Clustering Algorithms')\n",
        "plt.xticks(rotation=45, ha='right')  # Rotate x-axis labels for better readability\n",
        "plt.tight_layout()  # Adjust layout to prevent labels from overlapping\n",
        "plt.show()"
      ],
      "metadata": {
        "colab": {
          "base_uri": "https://localhost:8080/",
          "height": 607
        },
        "id": "sH-WFS-dtJrc",
        "outputId": "053bdbaa-18bf-4b7f-f6e1-3eb709bef795"
      },
      "execution_count": null,
      "outputs": [
        {
          "output_type": "display_data",
          "data": {
            "text/plain": [
              "<Figure size 1000x600 with 1 Axes>"
            ],
            "image/png": "[encoded data removed]"
          },
          "metadata": {}
        }
      ]
    },
    {
      "cell_type": "code",
      "source": [
        "\n",
        "#  Ground Truth Dataset\n",
        "domain_truth_data =  {'Dilwale Dulhania Le Jayenge': ['Dilwale', 'A Passage To India', 'The Secret Garden', 'After The Wedding', 'Bajrangi Bhaijaan']}\n",
        "\n",
        "schema = StructType([\n",
        "    StructField(\"movie_title\", StringType(), True),\n",
        "    StructField(\"truth_movies\", ArrayType(StringType()), True)\n",
        "])\n",
        "\n",
        "# Convert the dictionary to a list of rows\n",
        "domain_truth_data_rows = [(k, v) for k, v in domain_truth_data.items()]\n",
        "\n",
        "# Create a DataFrame with the defined schema and the list of rows\n",
        "domain_truth_df = spark.createDataFrame(domain_truth_data_rows, schema=schema)\n",
        "\n",
        "#  F1 Score Calculation Function\n",
        "def precision_recall_f1_spark(movie_title, recommendations, domain_truth_df):\n",
        "    # Retrieve domain truth for the input movie\n",
        "    domain_truth_row = domain_truth_df.filter(col(\"movie_title\") == movie_title).select(\"truth_movies\").collect()\n",
        "\n",
        "    if not domain_truth_row:\n",
        "        return f\"No domain truth available for '{movie_title}'\"\n",
        "\n",
        "    # Extract true recommendations and calculate metrics\n",
        "    required_movies = set(domain_truth_row[0][\"truth_movies\"])\n",
        "    recommended_set = set(recommendations)\n",
        "\n",
        "    true_positives = len(recommended_set.intersection(required_movies))\n",
        "    precision = true_positives / len(recommended_set) if recommended_set else 0\n",
        "    recall = true_positives / len(required_movies) if required_movies else 0\n",
        "    f1 = 2 * (precision * recall) / (precision + recall) if (precision + recall) > 0 else 0\n",
        "\n",
        "    return precision, recall, f1\n",
        "\n",
        "# Generate Recommendations\n",
        "movie_title = \"Dilwale Dulhania Le Jayenge\"\n",
        "k = 5\n",
        "knn_recommendations = find_knn(movie_title, k)\n",
        "recommendation_list = [row[\"title\"] for row in knn_recommendations]\n",
        "\n",
        "# Calculate F1 Score\n",
        "precision, recall, f1_score = precision_recall_f1_spark(movie_title, recommendation_list, domain_truth_df)"
      ],
      "metadata": {
        "id": "FAcWOpR4rmvV"
      },
      "execution_count": null,
      "outputs": []
    },
    {
      "cell_type": "code",
      "source": [
        "#  Print Results\n",
        "print(f\"Recommendations for '{movie_title}': {recommendation_list}\")\n",
        "print(f\"F1 Score: {f1_score:.2f}\")"
      ],
      "metadata": {
        "colab": {
          "base_uri": "https://localhost:8080/"
        },
        "id": "qCaj033VrmrZ",
        "outputId": "fd60f4ce-af94-4571-928f-5317adcbbd87"
      },
      "execution_count": null,
      "outputs": [
        {
          "output_type": "stream",
          "name": "stdout",
          "text": [
            "Recommendations for 'Dilwale Dulhania Le Jayenge': ['The Exterminating Angel', 'After The Wedding', 'The Secret Garden', 'A Passage To India', 'Bajrangi Bhaijaan']\n",
            "F1 Score: 0.80\n"
          ]
        }
      ]
    },
    {
      "cell_type": "code",
      "source": [
        "data2 = {\n",
        "    'Algorithm': ['KNN'],\n",
        "    'F1 Score': [0.8] # Example F1 scores\n",
        "}\n",
        "\n",
        "df = pd.DataFrame(data2)\n",
        "\n",
        "plt.figure(figsize=(10, 6))\n",
        "plt.bar(df['Algorithm'], df['F1 Score'], color='skyblue')\n",
        "plt.xlabel('Algorithm')\n",
        "plt.ylabel('F1 Score')\n",
        "plt.title('F1 Scores for KNN')\n",
        "plt.xticks(rotation=45, ha='right')\n",
        "plt.tight_layout()\n",
        "plt.show()"
      ],
      "metadata": {
        "colab": {
          "base_uri": "https://localhost:8080/",
          "height": 607
        },
        "id": "bE2PS_DJrmmL",
        "outputId": "f2842731-2c4a-4a86-a95f-e9eee05e8f48"
      },
      "execution_count": null,
      "outputs": [
        {
          "output_type": "display_data",
          "data": {
            "text/plain": [
              "<Figure size 1000x600 with 1 Axes>"
            ],
            "image/png": "[encoded data removed]"
          },
          "metadata": {}
        }
      ]
    }
  ],
  "metadata": {
    "colab": {
      "provenance": [],
      "gpuType": "T4"
    },
    "kernelspec": {
      "display_name": "Python 3",
      "name": "python3"
    },
    "language_info": {
      "name": "python"
    },
    "accelerator": "GPU"
  },
  "nbformat": 4,
  "nbformat_minor": 0
}